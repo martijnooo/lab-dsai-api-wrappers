{
 "cells": [
  {
   "cell_type": "markdown",
   "id": "bd0a3905-b346-43d5-9791-d3869299eb9d",
   "metadata": {},
   "source": [
    "# API wrappers"
   ]
  },
  {
   "cell_type": "markdown",
   "id": "327b4075-5374-4ecf-b8c5-c106d20d80e1",
   "metadata": {},
   "source": [
    "The OpenWeatherMap offers REST endpoints for querying current weather, forecasts, historical data, etc. However, accessing this data directly via the REST API requires handling multiple API calls, query parameters, and response parsing. The pyowm library abstracts these complexities and provides useful built-in functionalities."
   ]
  },
  {
   "cell_type": "markdown",
   "id": "1d731d49-fd79-44c8-8f72-68194c99fec0",
   "metadata": {},
   "source": [
    "After signing in to OpenWeatherMap retrieve your api key at https://home.openweathermap.org/api_keys\n",
    "\n",
    "You will also need to install the pyowm package: pip install pyowm "
   ]
  },
  {
   "cell_type": "code",
   "execution_count": 52,
   "id": "63b327b1-338b-4b14-a5b5-1bd8741da64b",
   "metadata": {},
   "outputs": [],
   "source": [
    "import requests\n",
    "import pyowm\n",
    "import json\n",
    "from dotenv import load_dotenv\n",
    "import os\n",
    "\n",
    "load_dotenv()\n",
    "api_key = os.getenv(\"API_KEY\")"
   ]
  },
  {
   "cell_type": "markdown",
   "id": "f73d3029-c6a6-43b9-81a9-0e81c13bdf09",
   "metadata": {},
   "source": [
    "## use case 1: managing API keys\n",
    "\n",
    "In a raw rest API call you always have to manage credentials in each individual call. Wrappers usually store and manage the authentication for you"
   ]
  },
  {
   "cell_type": "code",
   "execution_count": 53,
   "id": "afbcdf71-845e-4aae-b8cc-8963745f7d4b",
   "metadata": {},
   "outputs": [
    {
     "data": {
      "text/plain": [
       "{'coord': {'lon': -0.1257, 'lat': 51.5085},\n",
       " 'weather': [{'id': 803,\n",
       "   'main': 'Clouds',\n",
       "   'description': 'broken clouds',\n",
       "   'icon': '04d'}],\n",
       " 'base': 'stations',\n",
       " 'main': {'temp': 286.79,\n",
       "  'feels_like': 285.85,\n",
       "  'temp_min': 286.79,\n",
       "  'temp_max': 286.79,\n",
       "  'pressure': 1022,\n",
       "  'humidity': 63,\n",
       "  'sea_level': 1022,\n",
       "  'grnd_level': 1018},\n",
       " 'visibility': 10000,\n",
       " 'wind': {'speed': 3.03, 'deg': 26, 'gust': 3.73},\n",
       " 'clouds': {'all': 75},\n",
       " 'dt': 1745492405,\n",
       " 'sys': {'country': 'GB', 'sunrise': 1745469938, 'sunset': 1745521877},\n",
       " 'timezone': 3600,\n",
       " 'id': 2643743,\n",
       " 'name': 'London',\n",
       " 'cod': 200}"
      ]
     },
     "execution_count": 53,
     "metadata": {},
     "output_type": "execute_result"
    }
   ],
   "source": [
    "#You can get current weather data by making a GET request to an endpoint like:\n",
    "\n",
    "params = {\n",
    "    'appid' : api_key\n",
    "}\n",
    "\n",
    "response = requests.get('https://api.openweathermap.org/data/2.5/weather?q=London', params = params)\n",
    "\n",
    "json.loads(response.text)\n",
    "\n",
    "#but for every call you make using GET from now on you do need to add the parameters, since the raw API does not manage authentication for you"
   ]
  },
  {
   "cell_type": "markdown",
   "id": "b82c585b-fd83-4f59-9d46-14225f3e5037",
   "metadata": {},
   "source": [
    "Most wrappers (pyowm included) include some way of initializing a session with the authentication key that you then don't need to type again.\n",
    "\n",
    "Initialize pyowm with the default configuration. Thenopen the weather manager\n",
    "\n",
    "Check out a snippet here: https://pyowm.readthedocs.io/en/latest/v3/code-recipes.html#weather_data"
   ]
  },
  {
   "cell_type": "code",
   "execution_count": 54,
   "id": "f376d466-5a69-4a47-b35d-1870cbef61ff",
   "metadata": {},
   "outputs": [
    {
     "data": {
      "text/plain": [
       "'broken clouds'"
      ]
     },
     "execution_count": 54,
     "metadata": {},
     "output_type": "execute_result"
    }
   ],
   "source": [
    "from pyowm.owm import OWM\n",
    "owm = OWM(api_key)\n",
    "mgr = owm.weather_manager()\n",
    "observation = mgr.weather_at_place('London,GB')  # the observation object is a box containing a weather object\n",
    "weather = observation.weather\n",
    "weather.status           # short version of status (eg. 'Rain')\n",
    "weather.detailed_status  # detailed version of status (eg. 'light rain')"
   ]
  },
  {
   "cell_type": "markdown",
   "id": "840060e4-d3de-4b96-bb03-5bce02003f1d",
   "metadata": {},
   "source": [
    "## use case 2: Simplified calls\n",
    "\n",
    "With the raw REST API, you'd have to build a URL manually, send the request, and parse the JSON response to get the current weather."
   ]
  },
  {
   "cell_type": "code",
   "execution_count": 55,
   "id": "a2aa8395-0bed-4098-8881-0ffe93541b1f",
   "metadata": {},
   "outputs": [
    {
     "name": "stdout",
     "output_type": "stream",
     "text": [
      "Temperature: 286.79°C, Humidity: 63%, Wind Speed: 3.03 m/s\n"
     ]
    }
   ],
   "source": [
    "city = 'London'\n",
    "url = f'http://api.openweathermap.org/data/2.5/weather?q={city}'\n",
    "\n",
    "response = requests.get(url,params= params)\n",
    "data = response.json()\n",
    "temperature = data['main']['temp']\n",
    "humidity = data['main']['humidity']\n",
    "wind_speed = data['wind']['speed']\n",
    "\n",
    "print(f\"Temperature: {temperature}°C, Humidity: {humidity}%, Wind Speed: {wind_speed} m/s\")"
   ]
  },
  {
   "cell_type": "markdown",
   "id": "df5bc6df-bfb2-416d-8d06-3961d3a12234",
   "metadata": {},
   "source": [
    "Get the equivalent call as above for the city of London using the pyowm package"
   ]
  },
  {
   "cell_type": "code",
   "execution_count": 72,
   "id": "d1986770-4628-480b-b587-9ff5c42d301c",
   "metadata": {},
   "outputs": [
    {
     "name": "stdout",
     "output_type": "stream",
     "text": [
      "Temperature: 285.9°F, Humidity: 69%, Wind Speed: 3.03 m/s\n"
     ]
    }
   ],
   "source": [
    "owm = OWM(api_key)\n",
    "mgr = owm.weather_manager()\n",
    "observation = mgr.weather_at_place('London,GB')  # the observation object is a box containing a weather object\n",
    "weather = observation.weather\n",
    "temperature = weather.temperature()[\"temp\"]           # short version of status (eg. 'Rain')\n",
    "humidity = weather.humidity  # detailed version of status (eg. 'light rain')\n",
    "wind_speed = weather.wind()[\"speed\"]\n",
    "\n",
    "print(f\"Temperature: {temperature}°F, Humidity: {humidity}%, Wind Speed: {wind_speed} m/s\")"
   ]
  },
  {
   "cell_type": "markdown",
   "id": "7e7b93b2-c383-4e49-8fce-a0923ac59031",
   "metadata": {},
   "source": [
    "## use case 3: Combining and chaining calls\n",
    "\n",
    "Wrappers often offer methods that make multiple calls to batch requests that make sense to batch. And often they offer methods that make sequences of calls that each returns information necessary to make the next call."
   ]
  },
  {
   "cell_type": "markdown",
   "id": "8f4a6b6c-f397-48ce-a3ef-f88e1fb95eb9",
   "metadata": {},
   "source": [
    "For example, to get a weather forecast for a specific city using the raw API you need to first geocode the city to get its latitude and longitude:"
   ]
  },
  {
   "cell_type": "code",
   "execution_count": 58,
   "id": "d182cf31-80f8-4b61-8de0-897d2d6479d7",
   "metadata": {},
   "outputs": [],
   "source": [
    "city = 'New York'\n",
    "geocode_url = f'http://api.openweathermap.org/data/2.5/weather?q={city}'\n",
    "geocode_response = requests.get(geocode_url,params=params).json()\n",
    "\n",
    "lat = geocode_response['coord']['lat']\n",
    "lon = geocode_response['coord']['lon']"
   ]
  },
  {
   "cell_type": "markdown",
   "id": "547c5deb-1070-4b72-b035-32ea5a615eda",
   "metadata": {},
   "source": [
    "Then, request the weather forecast for that latitude/longitude:"
   ]
  },
  {
   "cell_type": "code",
   "execution_count": 59,
   "id": "03737eff-cbc6-412f-b6a1-03e28b39b1e4",
   "metadata": {},
   "outputs": [
    {
     "name": "stdout",
     "output_type": "stream",
     "text": [
      "Time: 2025-04-24 12:00:00, Temp: 288.07°C\n",
      "Time: 2025-04-24 15:00:00, Temp: 290.25°C\n",
      "Time: 2025-04-24 18:00:00, Temp: 294.13°C\n",
      "Time: 2025-04-24 21:00:00, Temp: 296.23°C\n",
      "Time: 2025-04-25 00:00:00, Temp: 293.62°C\n",
      "Time: 2025-04-25 03:00:00, Temp: 291.3°C\n",
      "Time: 2025-04-25 06:00:00, Temp: 289.67°C\n",
      "Time: 2025-04-25 09:00:00, Temp: 288.24°C\n",
      "Time: 2025-04-25 12:00:00, Temp: 289.03°C\n",
      "Time: 2025-04-25 15:00:00, Temp: 293.09°C\n",
      "Time: 2025-04-25 18:00:00, Temp: 293.22°C\n",
      "Time: 2025-04-25 21:00:00, Temp: 291.01°C\n",
      "Time: 2025-04-26 00:00:00, Temp: 291.51°C\n",
      "Time: 2025-04-26 03:00:00, Temp: 289.67°C\n",
      "Time: 2025-04-26 06:00:00, Temp: 287.55°C\n",
      "Time: 2025-04-26 09:00:00, Temp: 286.91°C\n",
      "Time: 2025-04-26 12:00:00, Temp: 288.35°C\n",
      "Time: 2025-04-26 15:00:00, Temp: 288.63°C\n",
      "Time: 2025-04-26 18:00:00, Temp: 290.77°C\n",
      "Time: 2025-04-26 21:00:00, Temp: 287.87°C\n",
      "Time: 2025-04-27 00:00:00, Temp: 284.74°C\n",
      "Time: 2025-04-27 03:00:00, Temp: 282.93°C\n",
      "Time: 2025-04-27 06:00:00, Temp: 282.22°C\n",
      "Time: 2025-04-27 09:00:00, Temp: 282.7°C\n",
      "Time: 2025-04-27 12:00:00, Temp: 282.64°C\n",
      "Time: 2025-04-27 15:00:00, Temp: 284.57°C\n",
      "Time: 2025-04-27 18:00:00, Temp: 289.41°C\n",
      "Time: 2025-04-27 21:00:00, Temp: 290.7°C\n",
      "Time: 2025-04-28 00:00:00, Temp: 288.47°C\n",
      "Time: 2025-04-28 03:00:00, Temp: 286.04°C\n",
      "Time: 2025-04-28 06:00:00, Temp: 285.02°C\n",
      "Time: 2025-04-28 09:00:00, Temp: 284.44°C\n",
      "Time: 2025-04-28 12:00:00, Temp: 285.85°C\n",
      "Time: 2025-04-28 15:00:00, Temp: 291.22°C\n",
      "Time: 2025-04-28 18:00:00, Temp: 294.7°C\n",
      "Time: 2025-04-28 21:00:00, Temp: 295.26°C\n",
      "Time: 2025-04-29 00:00:00, Temp: 292.93°C\n",
      "Time: 2025-04-29 03:00:00, Temp: 290.6°C\n",
      "Time: 2025-04-29 06:00:00, Temp: 288.6°C\n",
      "Time: 2025-04-29 09:00:00, Temp: 287.52°C\n"
     ]
    }
   ],
   "source": [
    "forecast_url = f'http://api.openweathermap.org/data/2.5/forecast?lat={lat}&lon={lon}'\n",
    "forecast_response = requests.get(forecast_url, params=params).json()\n",
    "\n",
    "for entry in forecast_response['list']:\n",
    "    print(f\"Time: {entry['dt_txt']}, Temp: {entry['main']['temp']}°C\")"
   ]
  },
  {
   "cell_type": "markdown",
   "id": "f75ab558-7500-40fa-a4aa-93a18053059a",
   "metadata": {},
   "source": [
    "Two calls: one for geocoding, one for forecasts.\n",
    "But with pyowm, because this is a common operation, there is a method that handles the geocoding internally and then fetches the weather forecast in one step.\n",
    "\n",
    "Get the above forecast in a single call using pyowm.\n",
    "\n",
    "Hint: search for \"forecast_at_place\" in the code recipies of the documentation"
   ]
  },
  {
   "cell_type": "code",
   "execution_count": null,
   "id": "11e3c1a8-260d-467c-8f47-793fd62a239b",
   "metadata": {},
   "outputs": [
    {
     "name": "stdout",
     "output_type": "stream",
     "text": [
      "An error occurred: Invalid API Key provided\n"
     ]
    }
   ],
   "source": [
    "#your code here\n",
    "from pyowm.utils.config import get_default_config\n",
    "\n",
    "# Set a higher timeout value\n",
    "config_dict = get_default_config()\n",
    "config_dict['connection']['timeout_secs'] = 15  # Increase timeout to 15 seconds\n",
    "\n",
    "owm = OWM(api_key, config_dict)\n",
    "mgr = owm.weather_manager()\n",
    "\n",
    "# Fetch the daily forecast\n",
    "try:\n",
    "\tforecast = mgr.forecast_at_place('Milan,IT', 'daily')\n",
    "except Exception as e:\n",
    "\tprint(f\"An error occurred: {e}\")"
   ]
  },
  {
   "cell_type": "markdown",
   "id": "31441480",
   "metadata": {},
   "source": [
    "--> Does not work because owm changed access rights"
   ]
  },
  {
   "cell_type": "markdown",
   "id": "7ab2b0cc-0d16-4da5-be3e-b8466faecca3",
   "metadata": {},
   "source": [
    "## use case 4: Convenience methods\n",
    "\n",
    "Wrappers often offer built-in methods to handle common kinds of tasks related to the APIs, reducing the need for manual calculations.\n",
    "\n",
    "for example converting units (e.g., temperature from Celsius to Fahrenheit) or working with more complex data requires manual conversion when using the raw API."
   ]
  },
  {
   "cell_type": "code",
   "execution_count": 94,
   "id": "68707e0b",
   "metadata": {},
   "outputs": [
    {
     "data": {
      "text/plain": [
       "{'coord': {'lon': -0.1257, 'lat': 51.5085},\n",
       " 'weather': [{'id': 803,\n",
       "   'main': 'Clouds',\n",
       "   'description': 'broken clouds',\n",
       "   'icon': '04d'}],\n",
       " 'base': 'stations',\n",
       " 'main': {'temp': 286.12,\n",
       "  'feels_like': 285.25,\n",
       "  'temp_min': 286.12,\n",
       "  'temp_max': 286.12,\n",
       "  'pressure': 1023,\n",
       "  'humidity': 68,\n",
       "  'sea_level': 1023,\n",
       "  'grnd_level': 1018},\n",
       " 'visibility': 10000,\n",
       " 'wind': {'speed': 3.03, 'deg': 26, 'gust': 3.73},\n",
       " 'clouds': {'all': 75},\n",
       " 'dt': 1745493813,\n",
       " 'sys': {'country': 'GB', 'sunrise': 1745469938, 'sunset': 1745521877},\n",
       " 'timezone': 3600,\n",
       " 'id': 2643743,\n",
       " 'name': 'London',\n",
       " 'cod': 200}"
      ]
     },
     "execution_count": 94,
     "metadata": {},
     "output_type": "execute_result"
    }
   ],
   "source": [
    "data"
   ]
  },
  {
   "cell_type": "code",
   "execution_count": 97,
   "id": "c8e68dad-a503-49cf-9c1e-72e9ed1fab3d",
   "metadata": {},
   "outputs": [
    {
     "name": "stdout",
     "output_type": "stream",
     "text": [
      "Temperature in Celsius: 141.17777777777778°C, Fahrenheit: 286.12°F\n"
     ]
    }
   ],
   "source": [
    "city = 'London'\n",
    "url = f'http://api.openweathermap.org/data/2.5/weather?q={city}&appid={api_key}'\n",
    "\n",
    "response = requests.get(url)\n",
    "data = response.json()\n",
    "temperature_fahrenheit = data['main']['temp']\n",
    "temperature_celsius = (temperature_fahrenheit - 32) * 5/9\n",
    "\n",
    "print(f\"Temperature in Celsius: {temperature_celsius}°C, Fahrenheit: {temperature_fahrenheit}°F\")"
   ]
  },
  {
   "cell_type": "markdown",
   "id": "9b05658c-e9cb-491d-8554-ab4d6dd56e1d",
   "metadata": {},
   "source": [
    "But the pyowm wrapper offers built-in methods to handle these kinds of tasks, reducing the need for manual calculations.\n",
    "Get the temperature both in Celcius and Farenheit using pyowm. Navigate the code recipes to figure out the inbuilt methods for this."
   ]
  },
  {
   "cell_type": "code",
   "execution_count": 96,
   "id": "4695bb83-bc35-4c1b-b390-5ea2027984ef",
   "metadata": {},
   "outputs": [
    {
     "name": "stdout",
     "output_type": "stream",
     "text": [
      "Temperature: 12.97°C, Humidity: 68%, Wind Speed: 3.03 m/s\n"
     ]
    }
   ],
   "source": [
    "#your code here\n",
    "observation = mgr.weather_at_place('London')  # the observation object is a box containing a weather object\n",
    "weather = observation.weather\n",
    "temperature = weather.temperature('celsius')[\"temp\"]          \n",
    "humidity = weather.humidity  \n",
    "wind_speed = weather.wind()[\"speed\"]\n",
    "\n",
    "print(f\"Temperature: {temperature}°C, Humidity: {humidity}%, Wind Speed: {wind_speed} m/s\")"
   ]
  }
 ],
 "metadata": {
  "kernelspec": {
   "display_name": "datasci_env",
   "language": "python",
   "name": "python3"
  },
  "language_info": {
   "codemirror_mode": {
    "name": "ipython",
    "version": 3
   },
   "file_extension": ".py",
   "mimetype": "text/x-python",
   "name": "python",
   "nbconvert_exporter": "python",
   "pygments_lexer": "ipython3",
   "version": "3.8.20"
  }
 },
 "nbformat": 4,
 "nbformat_minor": 5
}
